{
  "nbformat": 4,
  "nbformat_minor": 0,
  "metadata": {
    "colab": {
      "provenance": []
    },
    "kernelspec": {
      "name": "python3",
      "display_name": "Python 3"
    },
    "language_info": {
      "name": "python"
    }
  },
  "cells": [
    {
      "cell_type": "code",
      "execution_count": 1,
      "metadata": {
        "id": "7XeFh4u8Ce65",
        "colab": {
          "base_uri": "https://localhost:8080/"
        },
        "outputId": "1506f9c8-5f6c-4fa9-9c6b-dbfd90c4687c"
      },
      "outputs": [
        {
          "output_type": "stream",
          "name": "stdout",
          "text": [
            "Collecting surprise\n",
            "  Downloading surprise-0.1-py2.py3-none-any.whl (1.8 kB)\n",
            "Collecting scikit-surprise (from surprise)\n",
            "  Downloading scikit-surprise-1.1.3.tar.gz (771 kB)\n",
            "\u001b[2K     \u001b[90m━━━━━━━━━━━━━━━━━━━━━━━━━━━━━━━━━━━━━━━━\u001b[0m \u001b[32m772.0/772.0 kB\u001b[0m \u001b[31m5.9 MB/s\u001b[0m eta \u001b[36m0:00:00\u001b[0m\n",
            "\u001b[?25h  Preparing metadata (setup.py) ... \u001b[?25l\u001b[?25hdone\n",
            "Requirement already satisfied: joblib>=1.0.0 in /usr/local/lib/python3.10/dist-packages (from scikit-surprise->surprise) (1.3.2)\n",
            "Requirement already satisfied: numpy>=1.17.3 in /usr/local/lib/python3.10/dist-packages (from scikit-surprise->surprise) (1.25.2)\n",
            "Requirement already satisfied: scipy>=1.3.2 in /usr/local/lib/python3.10/dist-packages (from scikit-surprise->surprise) (1.11.4)\n",
            "Building wheels for collected packages: scikit-surprise\n",
            "  Building wheel for scikit-surprise (setup.py) ... \u001b[?25l\u001b[?25hdone\n",
            "  Created wheel for scikit-surprise: filename=scikit_surprise-1.1.3-cp310-cp310-linux_x86_64.whl size=3162723 sha256=6c91ab53cf1ffc491a35034cf586def85494f16cab08d7b97b4f1448eee99e30\n",
            "  Stored in directory: /root/.cache/pip/wheels/a5/ca/a8/4e28def53797fdc4363ca4af740db15a9c2f1595ebc51fb445\n",
            "Successfully built scikit-surprise\n",
            "Installing collected packages: scikit-surprise, surprise\n",
            "Successfully installed scikit-surprise-1.1.3 surprise-0.1\n"
          ]
        }
      ],
      "source": [
        "! pip install surprise\n"
      ]
    },
    {
      "cell_type": "code",
      "source": [
        "from surprise import dataset, accuracy, Dataset, SVD, SVDpp, NMF\n",
        "from surprise.model_selection import cross_validate, GridSearchCV"
      ],
      "metadata": {
        "id": "ona2VE5SmB6n"
      },
      "execution_count": 17,
      "outputs": []
    },
    {
      "cell_type": "code",
      "source": [
        "data = dataset.Dataset.load_builtin(name='ml-100k', prompt=True)"
      ],
      "metadata": {
        "id": "62GG9jNPmFUQ"
      },
      "execution_count": 18,
      "outputs": []
    },
    {
      "cell_type": "code",
      "source": [
        "# Define algorithms to experiment with\n",
        "algos = {\n",
        "    'SVD': SVD,\n",
        "    'SVD++': SVDpp,\n",
        "    'NMF': NMF\n",
        "}"
      ],
      "metadata": {
        "id": "U4UyKeAimPEv"
      },
      "execution_count": 19,
      "outputs": []
    },
    {
      "cell_type": "code",
      "source": [
        "# Define parameters grid for GridSearchCV\n",
        "param_grid = {\n",
        "    'SVD': {\n",
        "        'n_epochs': [5, 10, 15],\n",
        "        'lr_all': [0.002, 0.005],\n",
        "        'reg_all': [0.4, 0.6]\n",
        "    },\n",
        "    'SVD++': {\n",
        "        'n_epochs': [5, 10, 15],\n",
        "        'lr_all': [0.002, 0.005],\n",
        "        'reg_all': [0.4, 0.6]\n",
        "    },\n",
        "    'NMF': {\n",
        "        'n_epochs': [50, 100, 200],\n",
        "        'reg_pu': [0.06, 0.08, 0.1],\n",
        "        'reg_qi': [0.06, 0.08, 0.1]\n",
        "    }\n",
        "}"
      ],
      "metadata": {
        "id": "-neJENeUmSMO"
      },
      "execution_count": 20,
      "outputs": []
    },
    {
      "cell_type": "code",
      "source": [
        "# Perform grid search and cross-validation for each algorithm\n",
        "for algo_name, algo_class in algos.items():\n",
        "    print(f\"Evaluating {algo_name}...\")\n",
        "\n",
        "    # Grid search for the best parameters\n",
        "    gs = GridSearchCV(algo_class, param_grid[algo_name], measures=['rmse'], cv=3)\n",
        "    gs.fit(data)\n",
        "\n",
        "    # Print the best RMSE score and the corresponding parameters\n",
        "    print(f\"Best RMSE for {algo_name}: {gs.best_score['rmse']}\")\n",
        "    print(f\"Best parameters for {algo_name}: {gs.best_params['rmse']}\")\n",
        "\n",
        "    # Cross-validation with the best parameters\n",
        "    results = cross_validate(algo_class(**gs.best_params['rmse']), data, measures=['RMSE'], cv=3, verbose=False)\n",
        "    print(f\"Cross-validation RMSE scores for {algo_name}: {results['test_rmse']}\")\n",
        "    print(\"\")"
      ],
      "metadata": {
        "colab": {
          "base_uri": "https://localhost:8080/"
        },
        "id": "E3PChoErpNCX",
        "outputId": "744b8f7d-5f55-4196-ea69-14858fa54291"
      },
      "execution_count": 21,
      "outputs": [
        {
          "output_type": "stream",
          "name": "stdout",
          "text": [
            "Evaluating SVD...\n",
            "Best RMSE for SVD: 0.9608886130054367\n",
            "Best parameters for SVD: {'n_epochs': 15, 'lr_all': 0.005, 'reg_all': 0.4}\n",
            "Cross-validation RMSE scores for SVD: [0.96159881 0.95904277 0.96084886]\n",
            "\n",
            "Evaluating SVD++...\n",
            "Best RMSE for SVD++: 0.9598032227864874\n",
            "Best parameters for SVD++: {'n_epochs': 15, 'lr_all': 0.005, 'reg_all': 0.4}\n",
            "Cross-validation RMSE scores for SVD++: [0.96322914 0.9594159  0.95877835]\n",
            "\n",
            "Evaluating NMF...\n",
            "Best RMSE for NMF: 0.9404170825783922\n",
            "Best parameters for NMF: {'n_epochs': 200, 'reg_pu': 0.1, 'reg_qi': 0.1}\n",
            "Cross-validation RMSE scores for NMF: [0.94070177 0.93702961 0.94245506]\n",
            "\n"
          ]
        }
      ]
    }
  ]
}